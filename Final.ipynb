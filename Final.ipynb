{
 "cells": [
  {
   "cell_type": "markdown",
   "id": "cardiac-payment",
   "metadata": {},
   "source": [
    "<a href=\"https://colab.research.google.com/github/fzaman2258/AI-Assignment-3/blob/master/Final.ipynb\" target=\"_parent\"><img src=\"https://colab.research.google.com/assets/colab-badge.svg\" alt=\"Open In Colab\"/></a>\n",
    "\n",
    "# My Awesome Machine Learning Notebook¶\n",
    "\n",
    "\n",
    "## Abstract\n",
    "\n",
    "**Requirements:**\n",
    "+ Talk about what datasets you've selected for your notebook\n",
    "+ Include why you choose these datasets\n",
    "+ Talk about the classification algorithm you plan to use\n",
    "+ Mention what you hope to find over the course of this notebook\n",
    "\n",
    "I have selected Fortune 1000 dataset which is the top 1000 companies in the US ranked based of a variety of criteria.\n",
    "I really like the stock market and figuring out evaluations for a company and wanted to find if there was a correlation between a company's profit per year in USD and their market cap in USD. If the answer is yes I would want to further continue on if profit or market cap have a correlation with a company's ranking. I will perform a linear regression to predict the market cap based of profit per year.\n",
    "\n",
    "\n",
    "I have selected Heart Disease Prediction dataset which tries to classify wether or not someone has heart disease and I want to classify based of general attributes like age, gender, and chest pain rating on a scale of 0-4, where 0 is no pain and 4 is extreme pain."
   ]
  },
  {
   "cell_type": "markdown",
   "id": "stainless-hello",
   "metadata": {},
   "source": [
    "## Section 1: Prepping the Regression datasets\n",
    "\n",
    " **Requirements:**\n",
    " \n",
    "+ At a high level, discuss what columns are included in the data\n",
    "+ Load the dataset you've selected using pandas\n",
    "+ Show the \"head\" of the data\n",
    "+ For the columns you will be using in your regression, describe their setup in more detail\n",
    "+ Clean the data if needed using pandas\n",
    "\n",
    "My dataset has a bunch of different columns which are basically self explanatory, but I narrowed it down to the 2 columns I will use:\n",
    "+ Profit - Amount of profit acquired by a company within a year in USD\n",
    "+ Market Cap - Refers to the total value of all a company's shares of stock in USD\n",
    "\n",
    "I want to predict Market Cap based off of profit. \n",
    "\n",
    "I will use pandas to load and clean up my data."
   ]
  },
  {
   "cell_type": "code",
   "execution_count": 2,
   "id": "toxic-employment",
   "metadata": {},
   "outputs": [
    {
     "name": "stdout",
     "output_type": "stream",
     "text": [
      "<class 'pandas.core.frame.DataFrame'>\n",
      "RangeIndex: 1000 entries, 0 to 999\n",
      "Data columns (total 2 columns):\n",
      " #   Column      Non-Null Count  Dtype  \n",
      "---  ------      --------------  -----  \n",
      " 0   Profit      998 non-null    float64\n",
      " 1   Market Cap  950 non-null    float64\n",
      "dtypes: float64(2)\n",
      "memory usage: 15.8 KB\n"
     ]
    },
    {
     "data": {
      "text/html": [
       "<div>\n",
       "<style scoped>\n",
       "    .dataframe tbody tr th:only-of-type {\n",
       "        vertical-align: middle;\n",
       "    }\n",
       "\n",
       "    .dataframe tbody tr th {\n",
       "        vertical-align: top;\n",
       "    }\n",
       "\n",
       "    .dataframe thead th {\n",
       "        text-align: right;\n",
       "    }\n",
       "</style>\n",
       "<table border=\"1\" class=\"dataframe\">\n",
       "  <thead>\n",
       "    <tr style=\"text-align: right;\">\n",
       "      <th></th>\n",
       "      <th>Profit</th>\n",
       "      <th>Market Cap</th>\n",
       "    </tr>\n",
       "  </thead>\n",
       "  <tbody>\n",
       "    <tr>\n",
       "      <th>0</th>\n",
       "      <td>14881.0</td>\n",
       "      <td>411690.0</td>\n",
       "    </tr>\n",
       "    <tr>\n",
       "      <th>1</th>\n",
       "      <td>11588.0</td>\n",
       "      <td>1637405.0</td>\n",
       "    </tr>\n",
       "    <tr>\n",
       "      <th>2</th>\n",
       "      <td>14340.0</td>\n",
       "      <td>177923.0</td>\n",
       "    </tr>\n",
       "    <tr>\n",
       "      <th>3</th>\n",
       "      <td>55256.0</td>\n",
       "      <td>2221176.0</td>\n",
       "    </tr>\n",
       "    <tr>\n",
       "      <th>4</th>\n",
       "      <td>6634.0</td>\n",
       "      <td>98496.0</td>\n",
       "    </tr>\n",
       "    <tr>\n",
       "      <th>5</th>\n",
       "      <td>81417.0</td>\n",
       "      <td>550878.0</td>\n",
       "    </tr>\n",
       "    <tr>\n",
       "      <th>6</th>\n",
       "      <td>13839.0</td>\n",
       "      <td>332885.0</td>\n",
       "    </tr>\n",
       "    <tr>\n",
       "      <th>7</th>\n",
       "      <td>34.0</td>\n",
       "      <td>29570.0</td>\n",
       "    </tr>\n",
       "    <tr>\n",
       "      <th>8</th>\n",
       "      <td>13903.0</td>\n",
       "      <td>206369.0</td>\n",
       "    </tr>\n",
       "    <tr>\n",
       "      <th>9</th>\n",
       "      <td>855.4</td>\n",
       "      <td>21246.0</td>\n",
       "    </tr>\n",
       "    <tr>\n",
       "      <th>10</th>\n",
       "      <td>34343.0</td>\n",
       "      <td>1274139.0</td>\n",
       "    </tr>\n",
       "    <tr>\n",
       "      <th>11</th>\n",
       "      <td>47.0</td>\n",
       "      <td>26297.0</td>\n",
       "    </tr>\n",
       "    <tr>\n",
       "      <th>12</th>\n",
       "      <td>5104.0</td>\n",
       "      <td>60335.0</td>\n",
       "    </tr>\n",
       "    <tr>\n",
       "      <th>13</th>\n",
       "      <td>3659.0</td>\n",
       "      <td>160040.0</td>\n",
       "    </tr>\n",
       "    <tr>\n",
       "      <th>14</th>\n",
       "      <td>2924.0</td>\n",
       "      <td>156714.0</td>\n",
       "    </tr>\n",
       "  </tbody>\n",
       "</table>\n",
       "</div>"
      ],
      "text/plain": [
       "     Profit  Market Cap\n",
       "0   14881.0    411690.0\n",
       "1   11588.0   1637405.0\n",
       "2   14340.0    177923.0\n",
       "3   55256.0   2221176.0\n",
       "4    6634.0     98496.0\n",
       "5   81417.0    550878.0\n",
       "6   13839.0    332885.0\n",
       "7      34.0     29570.0\n",
       "8   13903.0    206369.0\n",
       "9     855.4     21246.0\n",
       "10  34343.0   1274139.0\n",
       "11     47.0     26297.0\n",
       "12   5104.0     60335.0\n",
       "13   3659.0    160040.0\n",
       "14   2924.0    156714.0"
      ]
     },
     "execution_count": 2,
     "metadata": {},
     "output_type": "execute_result"
    }
   ],
   "source": [
    "# Use pandas to load your dataset and output the first 15 rows\n",
    "import pandas as pd\n",
    "\n",
    "fortune = pd.read_csv(\"https://raw.githubusercontent.com/fzaman2258/AI-Assignment-3/master/datasets/Fortune_1000.csv\")\n",
    "# .head(n) shows first n rows\n",
    "# .tail(n) shows last n rows\n",
    "# .dtypes shows datatype of each column where \n",
    "# int64 = int, float64 = float, object = strings\n",
    "# .info() tells us many things including if we have empty values in some cells\n",
    "# iloc lets us choose which rows and columns we specifically want\n",
    "\n",
    "fortune.dtypes\n",
    "fortune.info()\n",
    "fortune.head(15)"
   ]
  },
  {
   "cell_type": "markdown",
   "id": "every-seattle",
   "metadata": {},
   "source": [
    "Here is the first couple of rows of my dataset and I want to highlight some reasons why I chose these:\n",
    "\n",
    "I have been trying to learn how to perform technical analysis onto companies based on the fundamentals as I think the secret to becoming wealthy is investing. I will admit I have been a bit addicted to options trading and as risky as it is, I can only improve my changes of a successful play by solidifying my understanding on more concepts needed in determining company evaluations.\n",
    "\n",
    "\n",
    "The.info() command showcases that some columns don't have values for what I want and I should get rid of them. For example having empty values."
   ]
  },
  {
   "cell_type": "code",
   "execution_count": 3,
   "id": "above-peeing",
   "metadata": {},
   "outputs": [
    {
     "name": "stdout",
     "output_type": "stream",
     "text": [
      "<class 'pandas.core.frame.DataFrame'>\n",
      "Int64Index: 949 entries, 0 to 999\n",
      "Data columns (total 2 columns):\n",
      " #   Column      Non-Null Count  Dtype  \n",
      "---  ------      --------------  -----  \n",
      " 0   Profit      949 non-null    float64\n",
      " 1   Market Cap  949 non-null    float64\n",
      "dtypes: float64(2)\n",
      "memory usage: 22.2 KB\n"
     ]
    },
    {
     "data": {
      "text/html": [
       "<div>\n",
       "<style scoped>\n",
       "    .dataframe tbody tr th:only-of-type {\n",
       "        vertical-align: middle;\n",
       "    }\n",
       "\n",
       "    .dataframe tbody tr th {\n",
       "        vertical-align: top;\n",
       "    }\n",
       "\n",
       "    .dataframe thead th {\n",
       "        text-align: right;\n",
       "    }\n",
       "</style>\n",
       "<table border=\"1\" class=\"dataframe\">\n",
       "  <thead>\n",
       "    <tr style=\"text-align: right;\">\n",
       "      <th></th>\n",
       "      <th>Profit</th>\n",
       "      <th>Market Cap</th>\n",
       "    </tr>\n",
       "  </thead>\n",
       "  <tbody>\n",
       "    <tr>\n",
       "      <th>0</th>\n",
       "      <td>14881.0</td>\n",
       "      <td>411690.0</td>\n",
       "    </tr>\n",
       "    <tr>\n",
       "      <th>1</th>\n",
       "      <td>11588.0</td>\n",
       "      <td>1637405.0</td>\n",
       "    </tr>\n",
       "    <tr>\n",
       "      <th>2</th>\n",
       "      <td>14340.0</td>\n",
       "      <td>177923.0</td>\n",
       "    </tr>\n",
       "    <tr>\n",
       "      <th>3</th>\n",
       "      <td>55256.0</td>\n",
       "      <td>2221176.0</td>\n",
       "    </tr>\n",
       "    <tr>\n",
       "      <th>4</th>\n",
       "      <td>6634.0</td>\n",
       "      <td>98496.0</td>\n",
       "    </tr>\n",
       "    <tr>\n",
       "      <th>5</th>\n",
       "      <td>81417.0</td>\n",
       "      <td>550878.0</td>\n",
       "    </tr>\n",
       "    <tr>\n",
       "      <th>6</th>\n",
       "      <td>13839.0</td>\n",
       "      <td>332885.0</td>\n",
       "    </tr>\n",
       "    <tr>\n",
       "      <th>7</th>\n",
       "      <td>34.0</td>\n",
       "      <td>29570.0</td>\n",
       "    </tr>\n",
       "    <tr>\n",
       "      <th>8</th>\n",
       "      <td>13903.0</td>\n",
       "      <td>206369.0</td>\n",
       "    </tr>\n",
       "    <tr>\n",
       "      <th>9</th>\n",
       "      <td>855.4</td>\n",
       "      <td>21246.0</td>\n",
       "    </tr>\n",
       "    <tr>\n",
       "      <th>10</th>\n",
       "      <td>34343.0</td>\n",
       "      <td>1274139.0</td>\n",
       "    </tr>\n",
       "    <tr>\n",
       "      <th>11</th>\n",
       "      <td>47.0</td>\n",
       "      <td>26297.0</td>\n",
       "    </tr>\n",
       "    <tr>\n",
       "      <th>12</th>\n",
       "      <td>5104.0</td>\n",
       "      <td>60335.0</td>\n",
       "    </tr>\n",
       "    <tr>\n",
       "      <th>13</th>\n",
       "      <td>3659.0</td>\n",
       "      <td>160040.0</td>\n",
       "    </tr>\n",
       "    <tr>\n",
       "      <th>14</th>\n",
       "      <td>2924.0</td>\n",
       "      <td>156714.0</td>\n",
       "    </tr>\n",
       "  </tbody>\n",
       "</table>\n",
       "</div>"
      ],
      "text/plain": [
       "     Profit  Market Cap\n",
       "0   14881.0    411690.0\n",
       "1   11588.0   1637405.0\n",
       "2   14340.0    177923.0\n",
       "3   55256.0   2221176.0\n",
       "4    6634.0     98496.0\n",
       "5   81417.0    550878.0\n",
       "6   13839.0    332885.0\n",
       "7      34.0     29570.0\n",
       "8   13903.0    206369.0\n",
       "9     855.4     21246.0\n",
       "10  34343.0   1274139.0\n",
       "11     47.0     26297.0\n",
       "12   5104.0     60335.0\n",
       "13   3659.0    160040.0\n",
       "14   2924.0    156714.0"
      ]
     },
     "execution_count": 3,
     "metadata": {},
     "output_type": "execute_result"
    }
   ],
   "source": [
    "# Use pandas to clean out data cells that have invalid values for columns of interest\n",
    "\n",
    "# This is making profit a series which is just a column in a data frame\n",
    "# We can select multiple columns with [['1','2'...]]\n",
    "# .notna() checks if the cell is blank or not\n",
    "\n",
    "fortune = fortune[fortune[\"Profit\"].notna()]\n",
    "fortune = fortune[fortune[\"Market Cap\"].notna()]\n",
    "\n",
    "fortune.dtypes\n",
    "fortune.info()\n",
    "fortune.head(15)"
   ]
  },
  {
   "cell_type": "markdown",
   "id": "descending-prayer",
   "metadata": {},
   "source": [
    "## Section 2: Linear Regression\n",
    "\n",
    "**Requirements:**\n",
    "\n",
    "+ Split your cleaned dataset using sklearn into a training and test set\n",
    "+ Fit a linear regression to your training set\n",
    "+ Visualize the regressor using matplotlib\n",
    "+ Report on the error rate for your test set\n",
    "+ Comment on the result of this regression. Did it work well or not? Provide justification why or why not.\n",
    "\n",
    "\n",
    "I would extract features, but I only have 2 columns which makes it quite straight forward.\n",
    "\n",
    "My guess is that higher profit margins should correlate to a higher marketcap, since the company seems to be doing well, but when I trade in the stock market, this isn't strong enough to use as a measurement to make better trades.\n",
    "\n"
   ]
  },
  {
   "cell_type": "code",
   "execution_count": 4,
   "id": "established-lying",
   "metadata": {},
   "outputs": [
    {
     "name": "stdout",
     "output_type": "stream",
     "text": [
      "0      14881.0\n",
      "1      11588.0\n",
      "2      14340.0\n",
      "3      55256.0\n",
      "4       6634.0\n",
      "        ...   \n",
      "995      274.0\n",
      "996       47.5\n",
      "997       45.5\n",
      "998      -95.1\n",
      "999       39.0\n",
      "Name: Profit, Length: 949, dtype: float64\n",
      "0       411690.0\n",
      "1      1637405.0\n",
      "2       177923.0\n",
      "3      2221176.0\n",
      "4        98496.0\n",
      "         ...    \n",
      "995        674.1\n",
      "996        590.5\n",
      "997      12059.3\n",
      "998       1211.8\n",
      "999        302.8\n",
      "Name: Market Cap, Length: 949, dtype: float64\n"
     ]
    }
   ],
   "source": [
    "# Use pandas to extract features and prediction sets from our dataframe\n",
    "\n",
    "# Just verifying the length, and datatype of my columns\n",
    "print(fortune[\"Profit\"])\n",
    "print(fortune[\"Market Cap\"])"
   ]
  },
  {
   "cell_type": "markdown",
   "id": "driven-cosmetic",
   "metadata": {},
   "source": [
    "Nice and then we use sklearn to create a training set and test set. I will reserve 20% of the dataset for testing."
   ]
  },
  {
   "cell_type": "code",
   "execution_count": 5,
   "id": "improved-monster",
   "metadata": {},
   "outputs": [
    {
     "name": "stdout",
     "output_type": "stream",
     "text": [
      "This is the training set for x \n",
      " 986     109.0\n",
      "308    1016.7\n",
      "573     520.5\n",
      "291    2796.0\n",
      "120     287.1\n",
      "        ...  \n",
      "117    2387.9\n",
      "286    2069.0\n",
      "910     124.0\n",
      "462    1503.0\n",
      "113    3599.2\n",
      "Name: Profit, Length: 759, dtype: float64\n",
      "This is the testing set for x \n",
      " 210    1339.1\n",
      "696      71.9\n",
      "732     238.3\n",
      "779     561.1\n",
      "817     142.3\n",
      "        ...  \n",
      "626     930.3\n",
      "33     4616.0\n",
      "31     2422.0\n",
      "843     173.5\n",
      "316    1693.0\n",
      "Name: Profit, Length: 190, dtype: float64\n",
      "This is the training set for y \n",
      " 986       642.3\n",
      "308     12518.0\n",
      "573      9793.5\n",
      "291    330936.0\n",
      "120      3738.4\n",
      "         ...   \n",
      "117     30969.0\n",
      "286      9503.1\n",
      "910      3991.0\n",
      "462     73515.0\n",
      "113    123779.0\n",
      "Name: Market Cap, Length: 759, dtype: float64\n",
      "This is the testing set for y \n",
      " 210    11906.0\n",
      "696     1090.8\n",
      "732     1462.8\n",
      "779    16558.8\n",
      "817     2608.1\n",
      "        ...   \n",
      "626    14093.5\n",
      "33     57773.0\n",
      "31     22928.0\n",
      "843      781.0\n",
      "316    22685.3\n",
      "Name: Market Cap, Length: 190, dtype: float64\n"
     ]
    }
   ],
   "source": [
    "# Use sklearn to split our dataset\n",
    "# we know the length is 949 from the info of the previous run so 20% of 949 is approximately 189.8 which is basically 190 rows for testing\n",
    "# x axis is profit values\n",
    "# y axis is what we are predicting or the market cap\n",
    "# in theory a positive slope graph is what we envision with slope > 1 \n",
    "\n",
    "import numpy as np\n",
    "from sklearn.model_selection import train_test_split\n",
    "\n",
    "x_train, x_test, y_train, y_test = train_test_split(fortune[\"Profit\"], fortune[\"Market Cap\"], test_size=.2, random_state=42)\n",
    "print(\"This is the training set for x \\n\",x_train)\n",
    "print(\"This is the testing set for x \\n\",x_test)\n",
    "print(\"This is the training set for y \\n\",y_train)\n",
    "print(\"This is the testing set for y \\n\",y_test)"
   ]
  },
  {
   "cell_type": "markdown",
   "id": "hybrid-software",
   "metadata": {},
   "source": [
    "Let's use that training set and fit a Linear Regression to it\n"
   ]
  },
  {
   "cell_type": "code",
   "execution_count": 6,
   "id": "parental-return",
   "metadata": {},
   "outputs": [],
   "source": [
    "# Use sklearn to create and Linear Regressor and fit our data to it\n",
    "\n",
    "from sklearn.linear_model import LinearRegression\n",
    "\n",
    "reg = LinearRegression().fit(x_train.values.reshape(-1,1),y_train)\n",
    "\n"
   ]
  },
  {
   "cell_type": "markdown",
   "id": "stretch-entity",
   "metadata": {},
   "source": [
    "To make sure we're on the right track let's try a couple made up sample inputs and see what our model returns:"
   ]
  },
  {
   "cell_type": "code",
   "execution_count": 7,
   "id": "continuous-raleigh",
   "metadata": {},
   "outputs": [
    {
     "name": "stdout",
     "output_type": "stream",
     "text": [
      "For profit of $20,000 per year it predicts: $ 411202.1082451882 as the market cap of the company\n",
      "For profit of $30,000 per year it predicts: $ 612515.0068616889 as the market cap of the company\n",
      "For profit of $40,000 per year it predicts: $ 813827.9054781896 as the market cap of the company\n",
      "For profit of $50,000 per year it predicts: $ 1015140.8040946902 as the market cap of the company\n"
     ]
    }
   ],
   "source": [
    "# experiment with the regressor\n",
    "\n",
    "print(\"For profit of $20,000 per year it predicts: $\",reg.predict([[20000]])[0],\"as the market cap of the company\")\n",
    "print(\"For profit of $30,000 per year it predicts: $\",reg.predict([[30000]])[0],\"as the market cap of the company\")\n",
    "print(\"For profit of $40,000 per year it predicts: $\",reg.predict([[40000]])[0],\"as the market cap of the company\")\n",
    "print(\"For profit of $50,000 per year it predicts: $\",reg.predict([[50000]])[0],\"as the market cap of the company\")\n"
   ]
  },
  {
   "cell_type": "markdown",
   "id": "quarterly-yacht",
   "metadata": {},
   "source": [
    "We all love data visualizations so let's create a plot of our linear regression and our data. I will have the training data be blue dots, the test data green dots, with a red regression line cutting through the data."
   ]
  },
  {
   "cell_type": "code",
   "execution_count": 8,
   "id": "common-jesus",
   "metadata": {},
   "outputs": [
    {
     "data": {
      "image/png": "[encoded data removed]",
      "text/plain": [
       "<Figure size 1080x720 with 1 Axes>"
      ]
     },
     "metadata": {
      "needs_background": "light"
     },
     "output_type": "display_data"
    }
   ],
   "source": [
    "# Use matplotlib (or other visualization lib) to create a scatter plot and the regression to create a regression line\n",
    "import matplotlib.pyplot as plt\n",
    "\n",
    "plt.figure(figsize=(15,10))\n",
    "plt.xlabel(\"Profit per year (USD)\")\n",
    "plt.ylabel(\"Market Cap (USD in millions)\")\n",
    "plt.scatter(x_train, y_train, color = \"blue\")\n",
    "plt.scatter(x_test, y_test, color = \"green\")\n",
    "plt.plot(x_train, reg.predict(x_train.values.reshape(-1,1)), color = \"red\")\n",
    "plt.show()"
   ]
  },
  {
   "cell_type": "markdown",
   "id": "lucky-hopkins",
   "metadata": {},
   "source": [
    "Very spicy. Now let's see what my awesome ML model predicts for the training set and how well it performed:"
   ]
  },
  {
   "cell_type": "code",
   "execution_count": 9,
   "id": "breeding-hearing",
   "metadata": {},
   "outputs": [
    {
     "name": "stdout",
     "output_type": "stream",
     "text": [
      "We predicted with an accuracy of 46.535397123077985 %\n"
     ]
    }
   ],
   "source": [
    "# Use linear regression model to report accuracy/error rate on the test set\n",
    "from sklearn import metrics\n",
    "\n",
    "y_pred = reg.predict(x_test.values.reshape(-1,1))\n",
    "print(\"We predicted with an accuracy of\",metrics.r2_score(y_test, y_pred)*100,\"%\")"
   ]
  },
  {
   "cell_type": "raw",
   "id": "imperial-kansas",
   "metadata": {},
   "source": [
    "Terrible! It's possible I just got unlucky though. Let me do some further analysis to see how well this works"
   ]
  },
  {
   "cell_type": "code",
   "execution_count": 10,
   "id": "quality-duplicate",
   "metadata": {},
   "outputs": [
    {
     "name": "stdout",
     "output_type": "stream",
     "text": [
      "-14.686922513137029 % accuracy from 5-fold cross validation\n"
     ]
    }
   ],
   "source": [
    "# Potentially perform further analysis, one good angle is k-fold cross validation or trying a different regression\n",
    "\n",
    "from sklearn.model_selection import cross_val_score\n",
    "\n",
    "scores = cross_val_score(reg, fortune[\"Profit\"].values.reshape(-1,1), fortune[\"Market Cap\"].values.reshape(-1,1), cv=5)\n",
    "print(scores.mean()*100,\"% accuracy from 5-fold cross validation\")"
   ]
  },
  {
   "cell_type": "markdown",
   "id": "elect-theory",
   "metadata": {},
   "source": [
    "Based on that output it seems like our model is a very ineffective predictor of what the marketcap of a company will be solely based of profit."
   ]
  },
  {
   "cell_type": "markdown",
   "id": "likely-contractor",
   "metadata": {},
   "source": [
    "## Section 3: Prepping the classification dataset\n",
    "\n",
    "**Requirements:**\n",
    "\n",
    "+ At a high level, discuss what columns are included in the data\n",
    "+ Load the dataset you've selected using pandas\n",
    "+ Show the head of the data\n",
    "+ For the columns you will be using in your classification, describe the range of values\n",
    "+ For those columns map the values to a set of integers (if they aren't already)\n",
    "+ Clean the data using pandas if needed\n",
    "\n",
    "I am choosing a dataset for heart disease prediction.\n",
    "I wish to classify based off of:\n",
    "\n",
    "1. Age - Person's age\n",
    "2. Sex - Data lists it as 1,0 where 1 =  Male, 0 = Female, so they saved me the time of mapping the values\n",
    "3. Chest Pain Type -  on a scale of 0-4, how much pain is a person in where 0 is no pain and 4 is extreme, unbearable pain\n",
    "\n",
    "\n",
    "I want to output a 1 for someone who is most likely to have heart disease and 0 for someone who is unlikely. I have to map my Heart Disease column where Presence is 1 and Absence is 0."
   ]
  },
  {
   "cell_type": "code",
   "execution_count": 19,
   "id": "understood-toilet",
   "metadata": {},
   "outputs": [
    {
     "data": {
      "text/html": [
       "<div>\n",
       "<style scoped>\n",
       "    .dataframe tbody tr th:only-of-type {\n",
       "        vertical-align: middle;\n",
       "    }\n",
       "\n",
       "    .dataframe tbody tr th {\n",
       "        vertical-align: top;\n",
       "    }\n",
       "\n",
       "    .dataframe thead th {\n",
       "        text-align: right;\n",
       "    }\n",
       "</style>\n",
       "<table border=\"1\" class=\"dataframe\">\n",
       "  <thead>\n",
       "    <tr style=\"text-align: right;\">\n",
       "      <th></th>\n",
       "      <th>Age</th>\n",
       "      <th>Sex</th>\n",
       "      <th>Chest pain type</th>\n",
       "      <th>Heart Disease</th>\n",
       "    </tr>\n",
       "  </thead>\n",
       "  <tbody>\n",
       "    <tr>\n",
       "      <th>0</th>\n",
       "      <td>70</td>\n",
       "      <td>1</td>\n",
       "      <td>4</td>\n",
       "      <td>1</td>\n",
       "    </tr>\n",
       "    <tr>\n",
       "      <th>1</th>\n",
       "      <td>67</td>\n",
       "      <td>0</td>\n",
       "      <td>3</td>\n",
       "      <td>0</td>\n",
       "    </tr>\n",
       "    <tr>\n",
       "      <th>2</th>\n",
       "      <td>57</td>\n",
       "      <td>1</td>\n",
       "      <td>2</td>\n",
       "      <td>1</td>\n",
       "    </tr>\n",
       "    <tr>\n",
       "      <th>3</th>\n",
       "      <td>64</td>\n",
       "      <td>1</td>\n",
       "      <td>4</td>\n",
       "      <td>0</td>\n",
       "    </tr>\n",
       "    <tr>\n",
       "      <th>4</th>\n",
       "      <td>74</td>\n",
       "      <td>0</td>\n",
       "      <td>2</td>\n",
       "      <td>0</td>\n",
       "    </tr>\n",
       "    <tr>\n",
       "      <th>5</th>\n",
       "      <td>65</td>\n",
       "      <td>1</td>\n",
       "      <td>4</td>\n",
       "      <td>0</td>\n",
       "    </tr>\n",
       "    <tr>\n",
       "      <th>6</th>\n",
       "      <td>56</td>\n",
       "      <td>1</td>\n",
       "      <td>3</td>\n",
       "      <td>1</td>\n",
       "    </tr>\n",
       "    <tr>\n",
       "      <th>7</th>\n",
       "      <td>59</td>\n",
       "      <td>1</td>\n",
       "      <td>4</td>\n",
       "      <td>1</td>\n",
       "    </tr>\n",
       "    <tr>\n",
       "      <th>8</th>\n",
       "      <td>60</td>\n",
       "      <td>1</td>\n",
       "      <td>4</td>\n",
       "      <td>1</td>\n",
       "    </tr>\n",
       "    <tr>\n",
       "      <th>9</th>\n",
       "      <td>63</td>\n",
       "      <td>0</td>\n",
       "      <td>4</td>\n",
       "      <td>1</td>\n",
       "    </tr>\n",
       "    <tr>\n",
       "      <th>10</th>\n",
       "      <td>59</td>\n",
       "      <td>1</td>\n",
       "      <td>4</td>\n",
       "      <td>0</td>\n",
       "    </tr>\n",
       "    <tr>\n",
       "      <th>11</th>\n",
       "      <td>53</td>\n",
       "      <td>1</td>\n",
       "      <td>4</td>\n",
       "      <td>0</td>\n",
       "    </tr>\n",
       "    <tr>\n",
       "      <th>12</th>\n",
       "      <td>44</td>\n",
       "      <td>1</td>\n",
       "      <td>3</td>\n",
       "      <td>0</td>\n",
       "    </tr>\n",
       "    <tr>\n",
       "      <th>13</th>\n",
       "      <td>61</td>\n",
       "      <td>1</td>\n",
       "      <td>1</td>\n",
       "      <td>1</td>\n",
       "    </tr>\n",
       "    <tr>\n",
       "      <th>14</th>\n",
       "      <td>57</td>\n",
       "      <td>0</td>\n",
       "      <td>4</td>\n",
       "      <td>0</td>\n",
       "    </tr>\n",
       "  </tbody>\n",
       "</table>\n",
       "</div>"
      ],
      "text/plain": [
       "    Age  Sex  Chest pain type  Heart Disease\n",
       "0    70    1                4              1\n",
       "1    67    0                3              0\n",
       "2    57    1                2              1\n",
       "3    64    1                4              0\n",
       "4    74    0                2              0\n",
       "5    65    1                4              0\n",
       "6    56    1                3              1\n",
       "7    59    1                4              1\n",
       "8    60    1                4              1\n",
       "9    63    0                4              1\n",
       "10   59    1                4              0\n",
       "11   53    1                4              0\n",
       "12   44    1                3              0\n",
       "13   61    1                1              1\n",
       "14   57    0                4              0"
      ]
     },
     "execution_count": 19,
     "metadata": {},
     "output_type": "execute_result"
    }
   ],
   "source": [
    "# Use pandas to map categories to ints, summarize your mapping below\n",
    "heart_disease = pd.read_csv(\"https://raw.githubusercontent.com/fzaman2258/AI-Assignment-3/master/datasets/Heart_Disease_Prediction.csv\")\n",
    "heart_disease = heart_disease[[\"Age\",\"Sex\",\"Chest pain type\",\"Heart Disease\"]]\n",
    "\n",
    "def heart_disease_map(x):\n",
    "    if x == \"Presence\":\n",
    "        return 1\n",
    "    if x == \"Absence\":\n",
    "        return 0\n",
    "\n",
    "heart_disease[\"Heart Disease\"] = heart_disease[\"Heart Disease\"].apply(heart_disease_map)\n",
    "heart_disease = heart_disease.dropna()\n",
    "heart_disease.head(15)"
   ]
  },
  {
   "cell_type": "markdown",
   "id": "overall-peripheral",
   "metadata": {},
   "source": [
    "## Section 4: Classification with a Neural Network (or classifier of choice)\n",
    "\n",
    "**Requirements:**\n",
    "\n",
    "+ Split your cleaned dataset using sklearn into a training and test set\n",
    "+ (Situational) Scale your data to prevent overfitting\n",
    "Fit a classifier to your training set\n",
    "+ (Optional) visualize the classifier on a data plot\n",
    "+ Report on the error rate for your test set\n",
    "+ Comment on the result of this regression. Did it work well or not? Provide justification why or why not.\n",
    "\n",
    "We can train our model to use age, sex, chest pain to predict if a person has heart disease.\n",
    "\n",
    "Once again let's split out our data into a training and test set. I will hold 20% of the data for testing."
   ]
  },
  {
   "cell_type": "code",
   "execution_count": 12,
   "id": "atomic-satin",
   "metadata": {},
   "outputs": [],
   "source": [
    "# Use sklearn to split our dataset\n",
    "x_train, x_test, y_train, y_test = train_test_split(heart_disease[[\"Age\",\"Sex\",\"Chest pain type\"]], heart_disease[\"Heart Disease\"],test_size=.2)"
   ]
  },
  {
   "cell_type": "markdown",
   "id": "advance-confidentiality",
   "metadata": {},
   "source": [
    "Before we train we also need to scale our data for our neural network. This is because neural networks are suspetible to overfitting on features that have a higher magnitude. To scale this data I will use a MinMaxScaler"
   ]
  },
  {
   "cell_type": "code",
   "execution_count": 13,
   "id": "expensive-savings",
   "metadata": {},
   "outputs": [],
   "source": [
    "# Use sklearn to scale your feature vector (if you use a neural network)\n",
    "from sklearn.preprocessing import MinMaxScaler\n",
    "\n",
    "scale = MinMaxScaler()\n",
    "x_train = scale.fit_transform(x_train)\n",
    "x_test = scale.fit_transform(x_test)"
   ]
  },
  {
   "cell_type": "markdown",
   "id": "statistical-differential",
   "metadata": {},
   "source": [
    "Alright now that our data is ready, we can create our classifier which will be a SVM(support vector machine)."
   ]
  },
  {
   "cell_type": "code",
   "execution_count": 14,
   "id": "institutional-duration",
   "metadata": {},
   "outputs": [],
   "source": [
    "# Initialize a SVM\n",
    "from sklearn import svm\n",
    "\n",
    "clf = svm.SVC()"
   ]
  },
  {
   "cell_type": "markdown",
   "id": "organized-wiring",
   "metadata": {},
   "source": [
    "Now let's train the SVM "
   ]
  },
  {
   "cell_type": "code",
   "execution_count": 15,
   "id": "fallen-protocol",
   "metadata": {},
   "outputs": [
    {
     "name": "stdout",
     "output_type": "stream",
     "text": [
      "A 21 year old male with chest pain of 2 on a scale of 0-4 does not have heart disease\n"
     ]
    }
   ],
   "source": [
    "# Fit the network, print the trained weights, and try sample data\n",
    "\n",
    "clf.fit(x_train,y_train)\n",
    "if clf.predict([[21,1,2]])[0] == 1:\n",
    "    print(\"A 21 year old male with chest pain of 2 on a scale of 0-4 has heart disease\")\n",
    "else:\n",
    "    print(\"A 21 year old male with chest pain of 2 on a scale of 0-4 does not have heart disease\")"
   ]
  },
  {
   "cell_type": "markdown",
   "id": "dirty-packing",
   "metadata": {},
   "source": [
    "Optionally it would be really cool if I created a visual to display the trained network weights or the classification regions (given the right dimensionality)."
   ]
  },
  {
   "cell_type": "code",
   "execution_count": 16,
   "id": "separate-secretary",
   "metadata": {},
   "outputs": [],
   "source": [
    "# Optional classifier visualzation code!\n",
    "# I dont have a visualizer unfortunately"
   ]
  },
  {
   "cell_type": "markdown",
   "id": "underlying-harbor",
   "metadata": {},
   "source": [
    "Once again let's analyze the accuracy of our machine learning. Here is the accuracy for the test set."
   ]
  },
  {
   "cell_type": "code",
   "execution_count": 17,
   "id": "million-assault",
   "metadata": {},
   "outputs": [
    {
     "name": "stdout",
     "output_type": "stream",
     "text": [
      "We predicted with an accuracy of 3.703703703703709 %\n"
     ]
    }
   ],
   "source": [
    "# Report on the accuracy of the Test set for your classifier\n",
    "y_pred = clf.predict(x_test)\n",
    "print(\"We predicted with an accuracy of\",metrics.r2_score(y_test, y_pred)*100,\"%\")"
   ]
  },
  {
   "cell_type": "markdown",
   "id": "sophisticated-intake",
   "metadata": {},
   "source": [
    "And just as before let's do a k-fold cross validation to see if we didn't just get lucky (or unlucky on our first go)."
   ]
  },
  {
   "cell_type": "code",
   "execution_count": 18,
   "id": "union-society",
   "metadata": {},
   "outputs": [
    {
     "name": "stdout",
     "output_type": "stream",
     "text": [
      "60.0 % accuracy from 5-fold cross validation\n"
     ]
    }
   ],
   "source": [
    "# Just as in Section 2, perform more analysis, try different neural network architectures or ways of splitting the data\n",
    "\n",
    "scores = cross_val_score(clf, heart_disease[[\"Age\",\"Sex\",\"Chest pain type\"]], heart_disease[\"Heart Disease\"], cv=5)\n",
    "print(scores.mean()*100,\"% accuracy from 5-fold cross validation\")"
   ]
  },
  {
   "cell_type": "markdown",
   "id": "durable-saint",
   "metadata": {},
   "source": [
    "Based on that result it looks like age, gender, chest pain isn't that great, but it is a better indicator than flipping a coin(assuming the coin is fair)."
   ]
  },
  {
   "cell_type": "markdown",
   "id": "checked-balance",
   "metadata": {},
   "source": [
    "## Conclusions\n",
    "\n",
    "**Requirements:**\n",
    "\n",
    "+ Summarize the findings of your report\n",
    "+ Repeat your methodology and key findings for Section 2. and Section 4.\n",
    "+ Highlight what you found interesting\n",
    "+ Discuss what you would do to extend the project further\n",
    "\n",
    "Here I summarize what I did in this report. Highlighting what I did, what I found interesting or surprising. I sum up and conclusions and what I would do to extend this project further in a V2.\n",
    "\n",
    "To summarize what I did so far, I first used linear regression to try to predict Market Cap from Profit of a company within a year in USD. I classified data using a SVM (Support Vector Machine) into 2 different groups so that I can predict which group my data would belong to, either high risk for having heart disease, or low risk for having heart disease. The way I approached both methods was basically the same. I used pandas to both load and clean my data. This ensured that I chose which columns I wanted, if the lengths were the same, datatypes were useable and that outliers and blank values were eliminated. I then split my data into my training set and testing set in a 80/20 split. 80% of my original data is used for training, and 20% is used for testing the accuracy of the model. I plotted the graph of predictions and saw a positive slope > 1 as I expected, but the accuracy seems terrible so I'm not entirely sure what it means or what happened. The cross validation was to see if I got lucky and the number is negative so I'm not entirely sure what to make of it. That is something I would want to revisit in the future, or maybe even use more features for my prediction. For the classifier I had to make sure I don't overfit the model to the data so I had to use the scaler so that every feature has equal impact. \n",
    "\n",
    "The conclusion of the project is that my model for predicting market cap from profit is not accurate which wasn't what I expected. The other idea would be maybe there simply is no correlation and it's just lucky that it sort of guesses it correctly some of the time. Maybe I would need more features to more properly predict it.\n",
    "For the classifier I was 60% accurate in predicting if someone has heart disease based of age, sex, chest pain. This was probably expected. The details are too vague for it too guess accurately. The thinking is that chest pain and heart disease don't have a strong correlation and skewed the data as such. For a v2 I would use more columns such as BP(blood pressure), Cholesterol, EKG results and more.\n",
    "\n",
    "All in all this project was mainly me reading documentation and looking at the examples to see how to replicate it for my dataset. I found it extremely insightful in seeing the process of how these methodologies I learned about in theory are applied in real life applications. Althought it does suck that I didn't see the results I kind of wanted to see or predicted. It is still invaluable to know that I can improve upon what I already done to make stronger models."
   ]
  },
  {
   "cell_type": "code",
   "execution_count": null,
   "id": "light-cardiff",
   "metadata": {},
   "outputs": [],
   "source": []
  }
 ],
 "metadata": {
  "kernelspec": {
   "display_name": "Python 3",
   "language": "python",
   "name": "python3"
  },
  "language_info": {
   "codemirror_mode": {
    "name": "ipython",
    "version": 3
   },
   "file_extension": ".py",
   "mimetype": "text/x-python",
   "name": "python",
   "nbconvert_exporter": "python",
   "pygments_lexer": "ipython3",
   "version": "3.9.2"
  }
 },
 "nbformat": 4,
 "nbformat_minor": 5
}
